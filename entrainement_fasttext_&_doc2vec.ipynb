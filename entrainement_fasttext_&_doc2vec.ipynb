{
  "nbformat": 4,
  "nbformat_minor": 0,
  "metadata": {
    "colab": {
      "provenance": [],
      "authorship_tag": "ABX9TyPwX7IUhy+cbHlYdoc4yVa4",
      "include_colab_link": true
    },
    "kernelspec": {
      "name": "python3",
      "display_name": "Python 3"
    },
    "language_info": {
      "name": "python"
    }
  },
  "cells": [
    {
      "cell_type": "markdown",
      "metadata": {
        "id": "view-in-github",
        "colab_type": "text"
      },
      "source": [
        "<a href=\"https://colab.research.google.com/github/ismailtarik/Analyse_Bibliometrique_des_Publications_Scientifiques_avec_API_Scopus/blob/main/entrainement_fasttext_%26_doc2vec.ipynb\" target=\"_parent\"><img src=\"https://colab.research.google.com/assets/colab-badge.svg\" alt=\"Open In Colab\"/></a>"
      ]
    },
    {
      "cell_type": "code",
      "execution_count": null,
      "metadata": {
        "id": "GIYpWsV4tmYc"
      },
      "outputs": [],
      "source": [
        "!pip uninstall spacy -y\n",
        "!pip install spacy\n",
        "!pip install gensim\n",
        "!pip install textBlob\n",
        "!pip install fasttext\n",
        "!python -m spacy download en_core_web_lg\n",
        "import os\n",
        "os.kill(os.getpid(), 9)"
      ]
    },
    {
      "cell_type": "code",
      "source": [
        "import kagglehub\n",
        "\n",
        "# Download latest version\n",
        "path = kagglehub.dataset_download(\"asaniczka/1-3m-linkedin-jobs-and-skills-2024\")\n",
        "\n",
        "print(\"Path to dataset files:\", path)"
      ],
      "metadata": {
        "id": "RwMG4OeYtwpf"
      },
      "execution_count": null,
      "outputs": []
    },
    {
      "cell_type": "code",
      "source": [
        "import pandas as pd\n",
        "\n",
        "# Update the path to include the actual CSV file\n",
        "file_path = '/root/.cache/kagglehub/datasets/asaniczka/1-3m-linkedin-jobs-and-skills-2024/versions/2/job_summary.csv'"
      ],
      "metadata": {
        "id": "IRqmGjiGtzpQ"
      },
      "execution_count": null,
      "outputs": []
    },
    {
      "cell_type": "code",
      "source": [
        "job_descriptions = pd.read_csv(file_path)\n",
        "job_descriptions.head()\n",
        "job_descriptions = job_descriptions[:300000]\n",
        "job_descriptions.to_csv(\"job_descriptions.csv\", index=False)"
      ],
      "metadata": {
        "id": "K5GisbKRt1p6"
      },
      "execution_count": null,
      "outputs": []
    },
    {
      "cell_type": "code",
      "source": [
        "job_descriptions = pd.read_csv(\"/content/job_descriptions.csv\")\n",
        "job_descriptions = job_descriptions[['job_summary']]\n",
        "job_descriptions.head()"
      ],
      "metadata": {
        "id": "albmdKXwt8O5"
      },
      "execution_count": null,
      "outputs": []
    },
    {
      "cell_type": "code",
      "source": [
        "import pandas as pd\n",
        "skills_dict = pd.read_csv(\"/content/competences_dictionnaires_finales.csv\")\n",
        "skills_dict.head()"
      ],
      "metadata": {
        "id": "ZsS6BVp-uBw0"
      },
      "execution_count": null,
      "outputs": []
    },
    {
      "cell_type": "code",
      "source": [
        "import pandas as pd\n",
        "import re\n",
        "import nltk\n",
        "from nltk.corpus import stopwords\n",
        "from nltk.tokenize import word_tokenize\n",
        "import string\n",
        "\n",
        "nltk.download('punkt')\n",
        "nltk.download('stopwords')\n",
        "\n",
        "# Fonction de nettoyage de texte\n",
        "def preprocess_text(text):\n",
        "    text = str(text).lower()\n",
        "    text = re.sub(r'\\n', ' ', text)\n",
        "    text = re.sub(r'\\s+', ' ', text)\n",
        "    text = re.sub(r'[^\\w\\s]', '', text)\n",
        "    tokens = word_tokenize(text)\n",
        "    tokens = [t for t in tokens if t not in stopwords.words('english') and t not in string.punctuation]\n",
        "    return \" \".join(tokens)\n",
        "\n",
        "# Prétraitement des descriptions\n",
        "job_descriptions['job_summary'] = job_descriptions['job_summary'].apply(preprocess_text)\n",
        "job_descriptions.to_csv(\"job_descriptions.csv\", index=False)\n",
        "\n",
        "# Prétraitement des compétences\n",
        "skills_dict = pd.read_csv(\"/content/competences_dictionnaires_finales.csv\")\n",
        "\n",
        "# Appliquer split ligne à ligne (si les compétences sont séparées par \\n dans une cellule)\n",
        "skills_dict['skills_keywords'] = skills_dict['skills_keywords'].apply(lambda x: [s.strip().lower() for s in str(x).split('\\n')])\n",
        "\n",
        "# Convertir en liste plate\n",
        "skills_dict = skills_dict.explode('skills_keywords').reset_index(drop=True)\n",
        "\n",
        "skills_dict.to_csv(\"/content/competences_dictionnaires_finales.csv\", index=False)\n",
        "\n",
        "print(skills_dict.head())"
      ],
      "metadata": {
        "id": "hbk_lDETuEB-"
      },
      "execution_count": null,
      "outputs": []
    },
    {
      "cell_type": "code",
      "source": [
        "import pandas as pd\n",
        "\n",
        "def create_corpus_from_csv(csv_path, output_path=\"corpus.txt\"):\n",
        "    descriptions = job_descriptions['job_summary'].dropna().tolist()\n",
        "\n",
        "    with open(output_path, 'w', encoding='utf-8') as f:\n",
        "        for desc in descriptions:\n",
        "            desc = desc.replace('\\n', ' ').strip()\n",
        "            f.write(desc + '\\n')\n",
        "\n",
        "    print(f\"Corpus créé avec {len(descriptions)} offres dans {output_path}\")\n",
        "\n",
        "create_corpus_from_csv(\"/content/job_descriptions.csv\")"
      ],
      "metadata": {
        "id": "fzcAs5PaxV5v"
      },
      "execution_count": null,
      "outputs": []
    },
    {
      "cell_type": "code",
      "source": [
        "from gensim.models import FastText\n",
        "from nltk.tokenize import word_tokenize\n",
        "import nltk\n",
        "import string\n",
        "\n",
        "nltk.download('punkt')\n",
        "nltk.download('punkt_tab')\n",
        "\n",
        "# Charger ton corpus\n",
        "def load_corpus(file_path):\n",
        "    with open(file_path, 'r', encoding='utf-8') as f:\n",
        "        lines = f.readlines()\n",
        "    tokenized = []\n",
        "    for line in lines:\n",
        "        line = line.lower()\n",
        "        line = line.translate(str.maketrans('', '', string.punctuation))\n",
        "        tokens = word_tokenize(line, language='english')\n",
        "        tokenized.append(tokens)\n",
        "    return tokenized\n",
        "\n",
        "# Entraîner le modèle FastText\n",
        "def train_fasttext_model(tokenized_corpus, model_path=\"fasttext_model.bin\"):\n",
        "    model = FastText(sentences=tokenized_corpus, vector_size=100, window=5, min_count=2, workers=4, epochs=10)\n",
        "    model.save(model_path)\n",
        "    print(f\"Modèle entraîné et enregistré sous : {model_path}\")\n",
        "\n",
        "if __name__ == \"__main__\":\n",
        "    corpus = load_corpus(\"/content/corpus.txt\")\n",
        "    train_fasttext_model(corpus)"
      ],
      "metadata": {
        "id": "wPnMlAjfxgHy"
      },
      "execution_count": null,
      "outputs": []
    },
    {
      "cell_type": "code",
      "source": [
        "def train_doc2vec_model(job_descriptions):\n",
        "    \"\"\" Entraînement du modèle Doc2Vec \"\"\"\n",
        "    documents = [TaggedDocument(words=preprocess_text(desc), tags=[str(i)]) for i, desc in enumerate(job_descriptions)]\n",
        "    model_d2v = Doc2Vec(vector_size=100, window=5, min_count=1, workers=2, epochs=20, dm=0)\n",
        "    model_d2v.build_vocab(documents)\n",
        "    model_d2v.train(documents, total_examples=model_d2v.corpus_count, epochs=model_d2v.epochs)\n",
        "    model_d2v.save(\"doc2vec_jobs.model\")\n",
        "    return model_d2v"
      ],
      "metadata": {
        "id": "6sVegMmsxiwP"
      },
      "execution_count": null,
      "outputs": []
    },
    {
      "cell_type": "code",
      "source": [
        "model_d2v = train_doc2vec_model(job_descriptions)"
      ],
      "metadata": {
        "id": "fA42vMKrxpUe"
      },
      "execution_count": null,
      "outputs": []
    }
  ]
}